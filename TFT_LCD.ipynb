{
 "cells": [
  {
   "cell_type": "markdown",
   "metadata": {},
   "source": [
    "# Thin-Film-Transistor LEDs\n",
    "\n",
    "Over the SPI interface, you can communicate with various devices using the Minnowboard. In this notebook, you can communicate with a wide variety of TFT LCD screens. You can find some examples such as these two displays:\n",
    "\n",
    "[2.8'' ILI9341](http://www.adafruit.com/products/1770)\n",
    "\n",
    "[3.5'' HXD8357D](https://www.adafruit.com/products/2050)\n",
    "\n",
    "## Wiring\n",
    "Review this wiki page on the [TFT LCD for more information on how to wire up a TFT LCD](http://wiki.minnowboard.org/Projects/Maker_TFTLCD) with your Minnowboard. You can execure the same code you'll see on the wiki here in this notebook. "
   ]
  },
  {
   "cell_type": "code",
   "execution_count": 6,
   "metadata": {
    "collapsed": true
   },
   "outputs": [],
   "source": [
    "# Get the Python Imaging Libraries for drawing shapes and working with images\n",
    "import Image\n",
    "import ImageDraw\n",
    "import ImageFont\n",
    "\n",
    "# Get our driver and GPIO libraries\n",
    "import pyDrivers.ILI9341 as TFT\n",
    "import Adafruit_GPIO.GPIO as GPIO\n",
    "import Adafruit_GPIO.SPI as SPI\n",
    "\n",
    "# Minnowboard MAX configuration.\n",
    "DC = 25 \n",
    "RST = 26\n",
    "SPI_PORT = 0\n",
    "SPI_DEVICE = 0"
   ]
  },
  {
   "cell_type": "markdown",
   "metadata": {},
   "source": [
    "### Using the TFT Class\n",
    "The TFT LCD userspace library can run without requiring a kernel module. Using it in this mode will be somewhat slower, suitable for drawing images one-at-a-time. "
   ]
  },
  {
   "cell_type": "code",
   "execution_count": 7,
   "metadata": {
    "collapsed": true
   },
   "outputs": [],
   "source": [
    "# Create TFT LCD display class.\n",
    "disp = TFT.ILI9341(DC, rst=RST, spi=SPI.SpiDev(SPI_PORT, SPI_DEVICE, max_speed_hz=1000000))\n",
    "\n",
    "# Initialize display.\n",
    "disp.begin()\n",
    "\n",
    "# Clear the display to a red background.\n",
    "# Can pass any tuple of red, green, blue values (from 0 to 255 each).\n",
    "disp.clear((255, 0, 0))\n",
    "\n",
    "# Get a PIL Draw object to start drawing on the display buffer.\n",
    "draw = disp.draw()"
   ]
  },
  {
   "cell_type": "markdown",
   "metadata": {},
   "source": [
    "### Using the PIL Drawing class\n",
    "The Python Imaging library makes it easy to draw simple shapes."
   ]
  },
  {
   "cell_type": "code",
   "execution_count": 8,
   "metadata": {
    "collapsed": true
   },
   "outputs": [],
   "source": [
    "draw.rectangle((10, 90, 110, 160), outline=(255,255,0), fill=(0,0,255))\n",
    "# Write buffer to the screen\n",
    "disp.display()"
   ]
  },
  {
   "cell_type": "markdown",
   "metadata": {},
   "source": [
    "### Using PIL for image files\n",
    "Additionally, you can display image files on your TFT LCD, supporting different kinds of filetypes such as PNG and JPEG. "
   ]
  },
  {
   "cell_type": "code",
   "execution_count": 9,
   "metadata": {
    "collapsed": true
   },
   "outputs": [],
   "source": [
    "image = Image.open('logo.png')\n",
    "image = image.rotate(90).resize((240,320))\n",
    "disp.display(image)"
   ]
  }
 ],
 "metadata": {
  "kernelspec": {
   "display_name": "Python 2",
   "language": "python",
   "name": "python2"
  },
  "language_info": {
   "codemirror_mode": {
    "name": "ipython",
    "version": 2
   },
   "file_extension": ".py",
   "mimetype": "text/x-python",
   "name": "python",
   "nbconvert_exporter": "python",
   "pygments_lexer": "ipython2",
   "version": "2.7.3"
  }
 },
 "nbformat": 4,
 "nbformat_minor": 0
}
