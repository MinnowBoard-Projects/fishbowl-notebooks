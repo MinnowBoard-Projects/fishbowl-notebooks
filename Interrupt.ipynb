{
 "cells": [
  {
   "cell_type": "markdown",
   "metadata": {},
   "source": [
    "# Interrupts\n",
    "The GPIO pins on the MinnowBoard MAX can be configured to receive data, such as a button press. Additionally, we can use these inputs to trigger an interrupt in a program, activating an Interrupt Service Routine (ISR).\n",
    "\n",
    "### Review the wiki page at http://wiki.minnowboard.org/Projects/Maker_Interrupt for hardware requirements and setup.\n"
   ]
  },
  {
   "cell_type": "code",
   "execution_count": null,
   "metadata": {
    "collapsed": true
   },
   "outputs": [],
   "source": [
    "# Import mraa and time for GPIO access and use of the sleep function\n",
    "import mraa                      \n",
    "import time      "
   ]
  },
  {
   "cell_type": "markdown",
   "metadata": {},
   "source": [
    "Using Python interrupts is a bit complicated since the Interrupt Servie Routine (ISR) module for Python can only work with objects. Basic types won't work, so you'll need to declare a class to use the objects. In this case, we use a class to keep track of the status of one of the LEDs. When the button is pressed, we'll flip the LED."
   ]
  },
  {
   "cell_type": "code",
   "execution_count": null,
   "metadata": {
    "collapsed": true
   },
   "outputs": [],
   "source": [
    "# Calling an interrupt requires that we specify a function to run when the\n",
    "# interrupt is triggered. This class simply holds our GPIO that flips upon\n",
    "# interrupt. The LED is held in the led object, and the current state\n",
    "# of the LED is held in status                       \n",
    "class Counter:                   \n",
    "  status = False                 \n",
    "  led = mraa.Gpio(25)            \n",
    "  led.dir(mraa.DIR_OUT)          \n",
    "                                 \n",
    "# Create an instance of the class\n",
    "c = Counter()                    \n",
    "\n",
    "# This is the function that will be called when the interrupt happens. It will \n",
    "# flip the status as it is held by the class and apply it to the GPIO pin.                   \n",
    "def test(args):    \n",
    "  c.status = not c.status\n",
    "  c.led.write(c.status)  "
   ]
  },
  {
   "cell_type": "markdown",
   "metadata": {},
   "source": [
    "Here is were we'll use the interrupt. After declaring the interrupt specifying the function to use, we'll specify another LED to blink endlessly wherein we can interrupt that procedure."
   ]
  },
  {
   "cell_type": "code",
   "execution_count": null,
   "metadata": {
    "collapsed": false
   },
   "outputs": [],
   "source": [
    "\n",
    "# Initialize the pin to be used as input                       \n",
    "x =mraa.Gpio(26)\n",
    "x.dir(mraa.DIR_IN)\n",
    "\n",
    "# This tells the pin to watch for interrupts. mraa.EDGE_BOTH is what we're watching\n",
    "# for; we can specify looking for the pin to go HIGH or LOW, but here we don't care\n",
    "# as long as it changes. The second argument is the function to call, and the third can\n",
    "# hold arguments that can be passed into the function (you can pass more than one)\n",
    "x.isr(mraa.EDGE_BOTH, test, test)\n",
    "                                 \n",
    "# When the default pin, is specified, it runs a normally blinking pattern\n",
    "y = mraa.Gpio(23)\n",
    "y.dir(mraa.DIR_OUT)"
   ]
  },
  {
   "cell_type": "markdown",
   "metadata": {},
   "source": [
    "Here is where we enter an infinite loop, but we can issue an interrupt to change the other LED. Despite being in a while loop that doesn't deal with the GPIO on pin 25, we can use an ISR to change it wherever we are."
   ]
  },
  {
   "cell_type": "code",
   "execution_count": null,
   "metadata": {
    "collapsed": true
   },
   "outputs": [],
   "source": [
    "# This runs the rest of the program, but it can be interrupted \n",
    "# as you can see by triggering the interrupt pin\n",
    "while True:\n",
    "  y.write(1)                   \n",
    "  time.sleep(1)                  \n",
    "  y.write(0)                     \n",
    "  time.sleep(1)     "
   ]
  }
 ],
 "metadata": {
  "kernelspec": {
   "display_name": "Python 2",
   "language": "python",
   "name": "python2"
  },
  "language_info": {
   "codemirror_mode": {
    "name": "ipython",
    "version": 2
   },
   "file_extension": ".py",
   "mimetype": "text/x-python",
   "name": "python",
   "nbconvert_exporter": "python",
   "pygments_lexer": "ipython2",
   "version": "2.7.3"
  }
 },
 "nbformat": 4,
 "nbformat_minor": 0
}
