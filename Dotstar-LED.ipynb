{
 "cells": [
  {
   "cell_type": "markdown",
   "metadata": {},
   "source": [
    "# Dotstar LED"
   ]
  },
  {
   "cell_type": "markdown",
   "metadata": {},
   "source": [
    "Dotstar LEDs are individually addressable LED strips for use with Arduinos, Raspberry Pis, and the Minnowboard. It connects to the device through the SPI pins and is driven here by Python. \n",
    "\n",
    "Start by importing the class file for the LEDs:"
   ]
  },
  {
   "cell_type": "code",
   "execution_count": 1,
   "metadata": {
    "collapsed": true
   },
   "outputs": [],
   "source": [
    "from pyDrivers import dotstar"
   ]
  },
  {
   "cell_type": "markdown",
   "metadata": {},
   "source": [
    "### Create Dotstar object\n",
    "\n",
    "You can pass several arguments to the Dotstar class constructor to change the behavior of the LED class. \n",
    "\n",
    "----------------------------------\n",
    "ds = dotstar.Dotstar(led_count=72, bus=0, init_data=0, init_brightness=0)\n",
    "\n",
    "###### Parameters:\n",
    "\n",
    "``led_count = some_number_of_leds``\n",
    "\n",
    "Change the number of LEDs in your strip. Note that this counts the raw number of individual LEDs, not how many strips/devices you have. Make sure this is set so all the LEDs are used.\n",
    "\n",
    "``bus = 0``\n",
    "\n",
    "Change the SPI bus. If you do not specify one, it will be initialized on bus 0, which is the default for the Minnowboard.\n",
    "\n",
    "``init_data = some_brightness_value + some_hue``\n",
    "\n",
    "Change the initial value of the LED strip. By default all the LEDS are initialized to the first color pushed. If you plan on having all the LEDs start off dark, don't set anything here.\n",
    "\n",
    "``init_brightness = some_brightness``\n",
    "\n",
    "Change the initial brightness of the LEDs. Valid brightness settings range from 0 to 10, representing the intensity of the LEDs from 0% to 100%. If you want the LEDs to start off dark, set this to 0 at the start. \n",
    "\n",
    "------------------------------------\n",
    "\n",
    "Here is a typical initialization, starting all 72 LEDS (or 2 Adafruit Dotstar LED strips connected together) turned off:"
   ]
  },
  {
   "cell_type": "code",
   "execution_count": 2,
   "metadata": {
    "collapsed": false
   },
   "outputs": [],
   "source": [
    "ds = dotstar.Dotstar(led_count=72*3,init_brightness=0)"
   ]
  },
  {
   "cell_type": "markdown",
   "metadata": {},
   "source": [
    "### Class Methods\n",
    "\n",
    "Now we can make use of the functions in the class to set the colors and intesnity of each LED. The class works by populating a deque with the LED values you want, and then pushing all the data at once to the LED strip. The following methods provide the most basic functionality:\n",
    "\n",
    "-----------------------\n",
    "``Dotstar.set(which_LED, brightness_level, red_hue, blue_hue, green_hue)``\n",
    "\n",
    "This function will add the LED to activate to the queue. The brightness and hue options are on a scale of 0 to 256, and the LED selection is from 0 to \n",
    "\n",
    "``Dotstar.draw()``\n",
    "\n",
    "This funciton draws the created deque to the LED strip. This function will clear the current deque, allowing you to populate another one.\n",
    "\n",
    "### Example\n",
    "\n",
    "Run this section to create a sequence of 5 red LEDS that move throughout the length of the LEDs. It looks like the LED array on KITT from Knight Rider."
   ]
  },
  {
   "cell_type": "code",
   "execution_count": null,
   "metadata": {
    "collapsed": false
   },
   "outputs": [],
   "source": [
    "while True:\n",
    "    for current_led in range (4, ds.led_count-4):\n",
    "        ds.set(current_led-4, 0, 0, 0, 0)\n",
    "        ds.set(current_led-2, 10, 100, 0, 0)\n",
    "        ds.set(current_led-1, 50, 200, 0, 0)\n",
    "        ds.set(current_led, 50, 250, 0, 0)\n",
    "        ds.set(current_led+1, 50, 200, 0, 0)\n",
    "        ds.set(current_led+2, 50, 150, 0, 0)\n",
    "        ds.set(current_led+4, 0, 0, 0, 0)\n",
    "        ds.draw()\n",
    "    for current_led in range(ds.led_count-5, 4, -1):\n",
    "        ds.set(current_led-3,10,100,0,0)\n",
    "        ds.set(current_led-2,10,150,0,0)\n",
    "        ds.set(current_led-1,50,200,0,0)\n",
    "        ds.set(current_led,50,250,0,0)\n",
    "        ds.set(current_led+1,50,200,0,0)\n",
    "        ds.set(current_led+2,50,150,0,0)\n",
    "        ds.set(current_led+4,0,0,0,0)\n",
    "        ds.draw()"
   ]
  },
  {
   "cell_type": "code",
   "execution_count": null,
   "metadata": {
    "collapsed": true
   },
   "outputs": [],
   "source": []
  }
 ],
 "metadata": {
  "kernelspec": {
   "display_name": "Python 2",
   "language": "python",
   "name": "python2"
  },
  "language_info": {
   "codemirror_mode": {
    "name": "ipython",
    "version": 2
   },
   "file_extension": ".py",
   "mimetype": "text/x-python",
   "name": "python",
   "nbconvert_exporter": "python",
   "pygments_lexer": "ipython2",
   "version": "2.7.3"
  }
 },
 "nbformat": 4,
 "nbformat_minor": 0
}
