{
 "cells": [
  {
   "cell_type": "markdown",
   "metadata": {},
   "source": [
    "# Slideshow Project\n",
    "\n",
    "This complicated project uses all the major components of the other projects to create a system that will display images and show information about the images all on the electronics connected to the Minnowboard.\n",
    "\n",
    "### Review the wiki page at http://wiki.minnowboard.org/Projects/Maker_Slideshow for hardware requirements and setup.\n",
    "\n",
    "Start by importing all the necessary packages."
   ]
  },
  {
   "cell_type": "code",
   "execution_count": null,
   "metadata": {
    "collapsed": true
   },
   "outputs": [],
   "source": [
    "import time\n",
    "import sys\n",
    "import os\n",
    "from PIL import Image\n",
    "from pyDrivers.ada_lcd import *\n",
    "import pyDrivers.ILI9341 as TFT\n",
    "import Adafruit_GPIO as GPIO\n",
    "import Adafruit_GPIO.SPI as SPI"
   ]
  },
  {
   "cell_type": "markdown",
   "metadata": {},
   "source": [
    "Now we'll start by invoking the GPIO class, which will identify our board and initialize the pins. We will use two pins for input for scrolling through the slideshow. We default to the spidev device at <code>/dev/spidev0.0</code> for the minnow\n",
    "\n",
    "Additionally, the Data/Command and Reset pins are defined for the TFT LCD display."
   ]
  },
  {
   "cell_type": "code",
   "execution_count": null,
   "metadata": {
    "collapsed": true
   },
   "outputs": [],
   "source": [
    "myGPIO = GPIO.get_platform_gpio()\n",
    "\n",
    "myGPIO.setup(12,GPIO.IN)\n",
    "myGPIO.setup(16,GPIO.IN)\n",
    "\n",
    "lcd = ADA_LCD()\n",
    "lcd.clear()\n",
    "\n",
    "SPI_PORT = 0\n",
    "SPI_DEVICE = 0\n",
    "SPEED = 16000000\n",
    "DC = 10\n",
    "RST = 14 \n"
   ]
  },
  {
   "cell_type": "markdown",
   "metadata": {},
   "source": [
    "The following functions collect all the images in the specified directory and place them into a list. It will filter out all the non-image files in the directory. It will fail if no images are found."
   ]
  },
  {
   "cell_type": "code",
   "execution_count": null,
   "metadata": {
    "collapsed": true
   },
   "outputs": [],
   "source": [
    "imageList = []\n",
    "rawList = os.listdir(\"/notebooks\")\n",
    "for i in range(0,len(rawList)):\n",
    "    if (rawList[i].lower().endswith(('.png', '.jpg', '.jpeg', '.gif'))==True):\n",
    "        imageList.append(\"/notebooks\" + \"/\" + rawList[i])\n",
    "    \n",
    "if len(imageList)==0:\n",
    "    print \"No images found!\"\n",
    "    exit(1)\n",
    "    \n",
    "count = 0\n",
    "\n",
    "print imageList"
   ]
  },
  {
   "cell_type": "markdown",
   "metadata": {},
   "source": [
    "Now we'll initialize the TFT LCD display and clear it."
   ]
  },
  {
   "cell_type": "code",
   "execution_count": null,
   "metadata": {
    "collapsed": true
   },
   "outputs": [],
   "source": [
    "disp = TFT.ILI9341(DC, rst=RST, spi=SPI.SpiDev(SPI_PORT,SPI_DEVICE,SPEED))\n",
    "disp.begin()"
   ]
  },
  {
   "cell_type": "markdown",
   "metadata": {},
   "source": [
    "This long infinite loop will work like so:\n",
    "\n",
    "<b>Clear the char LCD, write name of new image</b>\n",
    "\n",
    "<b>Wait for a button press</b>\n",
    "\n",
    "<b>Try to open an image</b>\n",
    "\n",
    "<b>Display the image on the TFT LCD</b>\n",
    "\n",
    "--If we fail to open the file, print an error message to the LCD display--\n",
    "\n",
    "----If we failed, open up the next file in the list. If we're at the end, restart at the beginning ----"
   ]
  },
  {
   "cell_type": "code",
   "execution_count": null,
   "metadata": {
    "collapsed": false
   },
   "outputs": [],
   "source": [
    "while True:\n",
    "    \n",
    "    lcd.clear()\n",
    "    time.sleep(0.25)\n",
    "    message = \" Image \" + str(count+1) + \" of \" + str(len(imageList)) + \"\\n\" + imageList[count][len(sys.argv[1]):]\n",
    "    lcd.message(message)\n",
    "    lcd.scroll()\n",
    "    try:\n",
    "        image = Image.open(imageList[count])\n",
    "    except(IOError):\n",
    "        lcd.clear()\n",
    "        time.sleep(0.25)\n",
    "        message = \" ERR: \" + str(count+1) + \" of \" + str(len(imageList)) + \"\\n\" + imageList[count][len(sys.argv[1]):]\n",
    "        lcd.scroll()\n",
    "        lcd.message(message)\n",
    "        if(count == len(imageList)-1):\n",
    "            image = Image.open(imageList[0])\n",
    "        else:\n",
    "            image = Image.open(imageList[count+1])\n",
    "\n",
    "    image = image.rotate(90).resize((240, 320))\n",
    "    disp.display(image)\n",
    "    \n",
    "    try:\n",
    "        while True:\n",
    "            if (myGPIO.input(12) != 1 and count != 0):\n",
    "                count = count - 1\n",
    "                break\n",
    "            if (myGPIO.input(16) != 1 and count != len(imageList)-1):\n",
    "                count = count + 1   \n",
    "                break \n",
    "    except (KeyboardInterrupt):\n",
    "        lcd.clear()\n",
    "        lcd.message(\"Terminated\")\n",
    "        print\n",
    "        exit(0)\n"
   ]
  },
  {
   "cell_type": "code",
   "execution_count": null,
   "metadata": {
    "collapsed": true
   },
   "outputs": [],
   "source": []
  }
 ],
 "metadata": {
  "kernelspec": {
   "display_name": "Python 2",
   "language": "python",
   "name": "python2"
  },
  "language_info": {
   "codemirror_mode": {
    "name": "ipython",
    "version": 2
   },
   "file_extension": ".py",
   "mimetype": "text/x-python",
   "name": "python",
   "nbconvert_exporter": "python",
   "pygments_lexer": "ipython2",
   "version": "2.7.3"
  }
 },
 "nbformat": 4,
 "nbformat_minor": 0
}
