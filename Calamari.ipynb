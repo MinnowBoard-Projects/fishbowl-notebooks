{
 "cells": [
  {
   "cell_type": "markdown",
   "metadata": {},
   "source": [
    "Calamari\n",
    "===\n",
    "The Calamari lure makes use of may of the signals on the MinnowBoard Low Speed Expansion bus. In this example we will read from the Analog Digitcal Converter (ADC), visualize the data, and light an LED when the read value exceeds a threshold.\n",
    "\n",
    "Import the modules and initialize the Calamari lure, then light the Red, Green, and Blue LEDs."
   ]
  },
  {
   "cell_type": "code",
   "execution_count": null,
   "metadata": {
    "collapsed": false
   },
   "outputs": [],
   "source": [
    "from pyDrivers import calamari\n",
    "c = calamari.calamari()"
   ]
  },
  {
   "cell_type": "code",
   "execution_count": null,
   "metadata": {
    "collapsed": true
   },
   "outputs": [],
   "source": [
    "c.led3.red(1)\n",
    "c.led3.green(1)\n",
    "c.led3.blue(1)"
   ]
  },
  {
   "cell_type": "markdown",
   "metadata": {},
   "source": [
    "Collect Data\n",
    "---\n",
    "Verify that the value changes as you move the Calamari slider (potentiometer) through its range.\n",
    "\n",
    "Click in the cell below and press **ctrl+enter** to see the value change."
   ]
  },
  {
   "cell_type": "code",
   "execution_count": null,
   "metadata": {
    "collapsed": false
   },
   "outputs": [],
   "source": [
    "print c.adc.read()"
   ]
  },
  {
   "cell_type": "markdown",
   "metadata": {},
   "source": [
    "Visualize Data\n",
    "---\n",
    "Now that you know it works, you can capture several values over a period of time and then plot that data. The next cell will record 50 samples (10 samples per second for 5 seconds). Run the cell below and move the slider through its range until it prints the 50 values."
   ]
  },
  {
   "cell_type": "code",
   "execution_count": null,
   "metadata": {
    "collapsed": false
   },
   "outputs": [],
   "source": [
    "import time\n",
    "adc_values = []\n",
    "x = range(0, 200)\n",
    "for i in x:\n",
    "    adc_values.append(c.adc.read())\n",
    "    time.sleep(0.01)\n",
    "print adc_values"
   ]
  },
  {
   "cell_type": "markdown",
   "metadata": {},
   "source": [
    "Now that we have collected the data, we can plot it using matplotlib."
   ]
  },
  {
   "cell_type": "code",
   "execution_count": null,
   "metadata": {
    "collapsed": false
   },
   "outputs": [],
   "source": [
    "%pylab inline\n",
    "\n",
    "plot(x, adc_values)"
   ]
  },
  {
   "cell_type": "markdown",
   "metadata": {},
   "source": [
    "Seven Segment Display\n",
    "---\n",
    "Here we'll use the calamari's seven-segment display to write some basic characters. You can use any number from 0 to 9, and any character from A to F. You can put in individual characters, or a string. The second argument in the string function is how long to pause after displaying each character."
   ]
  },
  {
   "cell_type": "code",
   "execution_count": null,
   "metadata": {
    "collapsed": false
   },
   "outputs": [],
   "source": [
    "c.sseg.putc(\"1\")\n",
    "time.sleep(1)\n",
    "c.sseg.putc(\"2\")\n",
    "time.sleep(1)\n",
    "c.sseg.putc(\"3\")\n",
    "time.sleep(1)\n",
    "c.sseg.puts(\"ABC\",1)"
   ]
  },
  {
   "cell_type": "markdown",
   "metadata": {},
   "source": [
    "Threshold Indicator\n",
    "---\n",
    "We can establish a threshold value and indicate when the value read exceeds the threshold by lighting the red LED on the Calamari."
   ]
  },
  {
   "cell_type": "code",
   "execution_count": null,
   "metadata": {
    "collapsed": false
   },
   "outputs": [],
   "source": [
    "for i in range(0,20):\n",
    "    current_value = c.adc.read()\n",
    "    if (0 <= current_value <= 400):\n",
    "        c.sseg.putc(\"A\")\n",
    "        c.led3.blue(1)\n",
    "        c.led3.red(0)\n",
    "        c.led3.green(0)\n",
    "    elif (401<= current_value <=901):\n",
    "        c.sseg.putc(\"B\")\n",
    "        c.led3.red(1)\n",
    "        c.led3.blue(0)\n",
    "        c.led3.green(0)\n",
    "    else:\n",
    "        c.sseg.putc(\"C\")\n",
    "        c.led3.green(1)\n",
    "        c.led3.blue(0)\n",
    "        c.led3.green(0)\n",
    "    c.led3.red(0)\n",
    "    c.led3.blue(0)\n",
    "    c.led3.green(0)"
   ]
  },
  {
   "cell_type": "markdown",
   "metadata": {},
   "source": [
    "Buttons \n",
    "---"
   ]
  },
  {
   "cell_type": "code",
   "execution_count": null,
   "metadata": {
    "collapsed": false
   },
   "outputs": [],
   "source": [
    "buttons = c.s1.wait()\n",
    "print \"Button 1 pressed!\"\n",
    "buttons = c.s2.wait()\n",
    "print \"Button 2 pressed!\"\n",
    "buttons = c.s3.wait()\n",
    "print \"Button 3 pressed!\""
   ]
  },
  {
   "cell_type": "code",
   "execution_count": null,
   "metadata": {
    "collapsed": true
   },
   "outputs": [],
   "source": []
  }
 ],
 "metadata": {
  "kernelspec": {
   "display_name": "Python 2",
   "language": "python",
   "name": "python2"
  },
  "language_info": {
   "codemirror_mode": {
    "name": "ipython",
    "version": 2
   },
   "file_extension": ".py",
   "mimetype": "text/x-python",
   "name": "python",
   "nbconvert_exporter": "python",
   "pygments_lexer": "ipython2",
   "version": "2.7.3"
  }
 },
 "nbformat": 4,
 "nbformat_minor": 0
}
