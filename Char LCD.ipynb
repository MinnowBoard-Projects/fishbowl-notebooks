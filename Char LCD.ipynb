{
 "cells": [
  {
   "cell_type": "markdown",
   "metadata": {},
   "source": [
    "# Character LCD\n",
    "\n",
    "###Review the wiki page at http://wiki.minnowboard.org/Projects/Maker_charLCD for hardware requirements and setup."
   ]
  },
  {
   "cell_type": "markdown",
   "metadata": {},
   "source": [
    "The pins for power, ground, and the potentiometer should be self-explanatory. The additional pins are used for the following purposes:\n",
    "\n",
    "<b>LCD pin 4: Register select</b> - This pin determines what we're passing to the character display. If it's set to LOW, the instruction register is selected for writing flags such as ones to clear the display and set the starting location. If it's set to HIGH, the data register is selected for reading and writing data to the display itself.\n",
    "\n",
    "<b>LCD pin 6: Enable</b> - This pin needs to be set to HIGH before we can read or write data.\n",
    "\n",
    "<b>LCD pins 7 through 14: Data</b> - These pins are the 8-bit bi-directional data bus we write the data to. However, we only use 4 of them to preserve pins on the MinnowBoard. We can do this by writing the first 4 bits normally, writing a set of zeros, and then writing the next set."
   ]
  },
  {
   "cell_type": "code",
   "execution_count": null,
   "metadata": {
    "collapsed": false
   },
   "outputs": [],
   "source": [
    "# Get all the libraries we need\n",
    "from pyDrivers.ada_lcd import *\n",
    "from subprocess import *\n",
    "from time import sleep, strftime\n",
    "from datetime import datetime\n",
    "\n",
    "# Create an instance of the LCD display\n",
    "lcd = ADA_LCD()\n",
    "\n",
    "# This complicated command will do a few things:\n",
    "# 1) Get the network information for the network interface eth0\n",
    "# 2) Find the lines where inet information is present\n",
    "# 3) Delete everything but the second element of each line\n",
    "# 4) Cut everything after the '/' character\n",
    " # 5) Edit the stream so that only the first line is left \n",
    "cmd = \"ip addr show eth0 | grep inet | awk '{print $2}' | cut -d/ -f1 | sed -n '1,1p'\"\n",
    "\n",
    "# This function uses the Python subprocess module to run our command\n",
    "def run_cmd(cmd):\n",
    "    p = Popen(cmd, shell=True, stdout=PIPE)\n",
    "    output = p.communicate()[0]\n",
    "    return output\n",
    "\n",
    "# In this infinite loop, run the command and update each second\n",
    "while 1:\n",
    "    lcd.clear()\n",
    "      # Get the address right now\n",
    "    ipaddr = run_cmd(cmd)    \n",
    "      # Using some Python functions, we'll get the current data and time,\n",
    "      # making sure to have the '\\n' at the end to go to the next line\n",
    "    lcd.message(datetime.now().strftime('%b %d %H:%M:%S\\n'))\n",
    "      # On the second line, print our current IP\n",
    "    lcd.message('IP: %s' % (ipaddr))\n",
    "    sleep(1)"
   ]
  }
 ],
 "metadata": {
  "kernelspec": {
   "display_name": "Python 2",
   "language": "python",
   "name": "python2"
  },
  "language_info": {
   "codemirror_mode": {
    "name": "ipython",
    "version": 2
   },
   "file_extension": ".py",
   "mimetype": "text/x-python",
   "name": "python",
   "nbconvert_exporter": "python",
   "pygments_lexer": "ipython2",
   "version": "2.7.3"
  }
 },
 "nbformat": 4,
 "nbformat_minor": 0
}
